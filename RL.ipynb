{
 "cells": [
  {
   "cell_type": "code",
   "execution_count": null,
   "metadata": {},
   "outputs": [],
   "source": [
    "# Code based off https://github.com/AI4Finance-LLC/Deep-Reinforcement-Learning-for-Automated-Stock-Trading-Ensemble-Strategy-ICAIF-2020"
   ]
  },
  {
   "cell_type": "code",
   "execution_count": 11,
   "metadata": {},
   "outputs": [],
   "source": [
    "import pandas as pd\n",
    "import os\n",
    "import matplotlib.pyplot as plt\n",
    "import numpy as np\n",
    "\n",
    "# common library\n",
    "import pandas as pd\n",
    "import numpy as np\n",
    "import time\n",
    "import gym\n",
    "\n",
    "# RL models from stable-baselines\n",
    "from stable_baselines import GAIL, SAC\n",
    "from stable_baselines import ACER\n",
    "from stable_baselines import PPO2\n",
    "from stable_baselines import A2C\n",
    "from stable_baselines import DDPG\n",
    "from stable_baselines import TD3\n",
    "\n",
    "from stable_baselines.ddpg.policies import DDPGPolicy\n",
    "from stable_baselines.common.policies import MlpPolicy, MlpLstmPolicy, MlpLnLstmPolicy\n",
    "from stable_baselines.common.noise import NormalActionNoise, OrnsteinUhlenbeckActionNoise, AdaptiveParamNoiseSpec\n",
    "from stable_baselines.common.vec_env import DummyVecEnv\n",
    "from preprocessing.preprocessors import *\n",
    "from config import config\n",
    "\n",
    "# customized env\n",
    "from env.EnvMultipleStock_train import StockEnvTrain\n",
    "from env.EnvMultipleStock_validation import StockEnvValidation\n",
    "from env.EnvMultipleStock_trade import StockEnvTrade"
   ]
  },
  {
   "cell_type": "code",
   "execution_count": 15,
   "metadata": {},
   "outputs": [],
   "source": [
    "def train_PPO(env_train, model_name, timesteps=50000):\n",
    "    \"\"\"PPO model\"\"\"\n",
    "\n",
    "    start = time.time()\n",
    "    model = PPO2('MlpPolicy', env_train, ent_coef = 0.005, nminibatches = 8)\n",
    "    #model = PPO2('MlpPolicy', env_train, ent_coef = 0.005)\n",
    "\n",
    "    model.learn(total_timesteps=timesteps)\n",
    "    end = time.time()\n",
    "\n",
    "    model.save(f\"{config.TRAINED_MODEL_DIR}/{model_name}\")\n",
    "    print('Training time (PPO): ', (end - start) / 60, ' minutes')\n",
    "    return model"
   ]
  },
  {
   "cell_type": "code",
   "execution_count": 17,
   "metadata": {},
   "outputs": [],
   "source": [
    "def DRL_prediction(df,\n",
    "                   model,\n",
    "                   name,\n",
    "                   last_state,\n",
    "                   iter_num,\n",
    "                   start_date,\n",
    "                   end_date,\n",
    "                   turbulence_threshold,\n",
    "                   initial):\n",
    "    ### make a prediction based on trained model###\n",
    "\n",
    "    ## trading env\n",
    "    trade_data = data_split(df, start=start_date, end=end_date)\n",
    "    env_trade = DummyVecEnv([lambda: StockEnvTrade(trade_data,\n",
    "                                                   turbulence_threshold=turbulence_threshold,\n",
    "                                                   initial=initial,\n",
    "                                                   previous_state=last_state,\n",
    "                                                   model_name=name,\n",
    "                                                   iteration=iter_num)])\n",
    "    obs_trade = env_trade.reset()\n",
    "\n",
    "    for i in range(len(trade_data.index.unique())):\n",
    "        action, _states = model.predict(obs_trade)\n",
    "        obs_trade, rewards, dones, info = env_trade.step(action)\n",
    "        if i == (len(trade_data.index.unique()) - 2):\n",
    "            # print(env_test.render())\n",
    "            last_state = env_trade.render()\n",
    "\n",
    "    df_last_state = pd.DataFrame({'last_state': last_state})\n",
    "    df_last_state.to_csv('results/last_state_{}_{}.csv'.format(name, i), index=False)\n",
    "    return last_state"
   ]
  },
  {
   "cell_type": "code",
   "execution_count": 19,
   "metadata": {},
   "outputs": [],
   "source": [
    "def get_validation_sharpe(iteration):\n",
    "    ###Calculate Sharpe ratio based on validation results###\n",
    "    df_total_value = pd.read_csv('results/account_value_train.csv', index_col=0)\n",
    "    df_total_value.columns = ['account_value_train']\n",
    "    df_total_value['daily_return'] = df_total_value.pct_change(1)\n",
    "    sharpe = (4 ** 0.5) * df_total_value['daily_return'].mean() / \\\n",
    "             df_total_value['daily_return'].std()\n",
    "    return sharpe"
   ]
  },
  {
   "cell_type": "code",
   "execution_count": 20,
   "metadata": {
    "scrolled": true
   },
   "outputs": [
    {
     "name": "stdout",
     "output_type": "stream",
     "text": [
      "   datadate   tic      adjcp       open       high        low      volume  \\\n",
      "0  20090102  AAPL  12.964286  12.268571  13.005714  12.165714  26641980.0   \n",
      "1  20090102   AXP  19.330000  18.570000  19.520000  18.400000  10955620.0   \n",
      "2  20090102    BA  45.250000  42.800000  45.560000  42.780000   7010171.0   \n",
      "3  20090102   CAT  46.910000  44.910000  46.980000  44.710000   7116726.0   \n",
      "4  20090102  CSCO  16.960000  16.410000  17.000000  16.250000  40977480.0   \n",
      "\n",
      "   macd    rsi        cci    adx  turbulence  \n",
      "0   0.0  100.0  66.666667  100.0         0.0  \n",
      "1   0.0  100.0  66.666667  100.0         0.0  \n",
      "2   0.0  100.0  66.666667  100.0         0.0  \n",
      "3   0.0    0.0  66.666667  100.0         0.0  \n",
      "4   0.0  100.0  66.666667  100.0         0.0  \n",
      "1053360\n"
     ]
    }
   ],
   "source": [
    "preprocessed_path = \"done_data.csv\"\n",
    "if os.path.exists(preprocessed_path):\n",
    "    data = pd.read_csv(preprocessed_path, index_col=0)\n",
    "else:\n",
    "    data = preprocess_data()\n",
    "    data = add_turbulence(data)\n",
    "    data.to_csv(preprocessed_path)\n",
    "\n",
    "print(data.head())\n",
    "print(data.size)"
   ]
  },
  {
   "cell_type": "code",
   "execution_count": 21,
   "metadata": {},
   "outputs": [
    {
     "name": "stdout",
     "output_type": "stream",
     "text": [
      "turbulence_threshold:  158.23844086639005\n"
     ]
    }
   ],
   "source": [
    "insample_turbulence = data[(data['datadate']>=20090102) & (data['datadate']<=20101223)]\n",
    "insample_turbulence = insample_turbulence.drop_duplicates(subset=['datadate'])\n",
    "insample_turbulence_threshold = np.quantile(insample_turbulence.turbulence.values, .90)\n",
    "\n",
    "turbulence_threshold = np.quantile(insample_turbulence.turbulence.values, 1)\n",
    "print(\"turbulence_threshold: \", turbulence_threshold)"
   ]
  },
  {
   "cell_type": "code",
   "execution_count": 22,
   "metadata": {},
   "outputs": [],
   "source": [
    "start_date = 20090102\n",
    "end_date = 20101223\n",
    "start_val = 20101224\n",
    "end_val = 20111223\n",
    "start_trading = 20111224\n",
    "end_trading = 20121224\n",
    "initial = True\n",
    "\n",
    "last_state_ensemble = []\n",
    "\n",
    "ppo_sharpe_list = []\n",
    "ddpg_sharpe_list = []\n",
    "a2c_sharpe_list = []\n",
    "\n",
    "model_use = []"
   ]
  },
  {
   "cell_type": "code",
   "execution_count": 37,
   "metadata": {},
   "outputs": [
    {
     "name": "stdout",
     "output_type": "stream",
     "text": [
      "======PPO Training========\n",
      "Training time (PPO):  3.361064012845357  minutes\n",
      "PPO Sharpe Ratio:  0.18164089330037592\n"
     ]
    }
   ],
   "source": [
    "start = time.time()\n",
    "i = 1\n",
    "\n",
    "train = data_split(data, start=start_date, end=end_date)\n",
    "env_train = DummyVecEnv([lambda: StockEnvTrain(train)])\n",
    "\n",
    "print(\"======PPO Training========\")\n",
    "model_ppo = train_PPO(env_train, model_name=\"PPO_100k_dow_{}\".format(i), timesteps=100000)\n",
    "sharpe_ppo = get_validation_sharpe(i)\n",
    "print(\"PPO Sharpe Ratio: \", sharpe_ppo)"
   ]
  },
  {
   "cell_type": "code",
   "execution_count": null,
   "metadata": {},
   "outputs": [],
   "source": []
  }
 ],
 "metadata": {
  "kernelspec": {
   "display_name": "Python 3",
   "language": "python",
   "name": "python3"
  },
  "language_info": {
   "codemirror_mode": {
    "name": "ipython",
    "version": 3
   },
   "file_extension": ".py",
   "mimetype": "text/x-python",
   "name": "python",
   "nbconvert_exporter": "python",
   "pygments_lexer": "ipython3",
   "version": "3.7.9"
  }
 },
 "nbformat": 4,
 "nbformat_minor": 4
}
